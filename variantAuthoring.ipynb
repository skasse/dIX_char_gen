{
 "cells": [
  {
   "cell_type": "code",
   "execution_count": null,
   "metadata": {},
   "outputs": [],
   "source": [
    "# 1. get list of all models/lookdevs\n",
    "# 2. loop thru models and insert into template variantSet\n",
    "# 3. write full variantSet list to model_variant_template and output. \n",
    "# variantSet \"characterSets\" = {\"<model_id>\" {over \"body\" (payload = @../../../TASKS/MODEL/char/<model_id>/asset/model.usda@){}}}\n",
    "# this should work for all usda variants, not just models or skin. \n",
    "# maybe?  the model.usda creates the binding... eek\n"
   ]
  },
  {
   "cell_type": "markdown",
   "metadata": {},
   "source": []
  },
  {
   "cell_type": "code",
   "execution_count": 23,
   "metadata": {},
   "outputs": [],
   "source": [
    "import os\n",
    "from glob import glob\n",
    "\n",
    "sourcePath = \"N:/working/characters/POC/\"\n",
    "modelPath = sourcePath+\"TASKS/MODEL/char/**/asset/\"\n",
    "skinpath = sourcePath+\"TASKS/LOOKDEV/char/skin/\"\n",
    "modelTemplate = sourcePath+\"templates/model_variants_template.usda\"\n",
    "skinTemplate = sourcePath+\"templates/skin_variants_template.usda\"\n",
    "model_varTemplate = '\"<id>\" {over \"body\" (payload = @../../../TASKS/MODEL/char/<id>/asset/model.usda@){}\\n}'\n",
    "skin_varTemplate = '\"<id>\" {over \"Looks\" (payload = @../../../TASKS/LOOKDEV/char/skin/<id>.usda@){}\\n}'\n",
    "destPath = sourcePath+\"PUBLISH/assets/char/\""
   ]
  },
  {
   "cell_type": "code",
   "execution_count": 24,
   "metadata": {},
   "outputs": [],
   "source": [
    "models = [x.replace(os.sep, '/').split(\"/\")[-3] for x in glob(modelPath+\"/model.usda\")]\n",
    "skin_mtl = [x.replace(os.sep, '/').split(\"/\")[-1].split(\".\")[0] for x in glob(skinpath+\"/**.usda\")]"
   ]
  },
  {
   "cell_type": "code",
   "execution_count": 25,
   "metadata": {},
   "outputs": [],
   "source": [
    "def func(input_list, varToken, usdTemplate, fname):\n",
    "    varList = []\n",
    "    for each in input_list:\n",
    "        varList.append(varToken.replace(\"<id>\", each)+\"\\n\")\n",
    "    joinVarList = \"\".join(varList)\n",
    "    with open(usdTemplate, 'r') as f:\n",
    "        s = f.read()\n",
    "    with open(destPath+fname+\".usda\", 'w') as f:\n",
    "        s = s.replace(\"<variantSet>\", joinVarList)\n",
    "        f.write(s)"
   ]
  },
  {
   "cell_type": "code",
   "execution_count": 9,
   "metadata": {},
   "outputs": [],
   "source": [
    "with open(modelTemplate, 'r') as f:\n",
    "    s = f.read()\n",
    "with open(destPath+\"modelVariants.usda\", 'w') as f:\n",
    "    s = s.replace(\"<variantSet>\", modelVarSets)\n",
    "    f.write(s)"
   ]
  },
  {
   "cell_type": "code",
   "execution_count": 31,
   "metadata": {},
   "outputs": [],
   "source": [
    "func(models, model_varTemplate, modelTemplate, \"modelVariants\")"
   ]
  },
  {
   "cell_type": "code",
   "execution_count": 29,
   "metadata": {},
   "outputs": [],
   "source": [
    "func(skin_mtl, skin_varTemplate, skinTemplate, \"skinVariants\")"
   ]
  }
 ],
 "metadata": {
  "kernelspec": {
   "display_name": "Python 3.9.13 64-bit (windows store)",
   "language": "python",
   "name": "python3"
  },
  "language_info": {
   "codemirror_mode": {
    "name": "ipython",
    "version": 3
   },
   "file_extension": ".py",
   "mimetype": "text/x-python",
   "name": "python",
   "nbconvert_exporter": "python",
   "pygments_lexer": "ipython3",
   "version": "3.9.13"
  },
  "orig_nbformat": 4,
  "vscode": {
   "interpreter": {
    "hash": "5806630f2beb0724d9d4cdc68894c636bf136603f2798ac4d2652c15c74db36e"
   }
  }
 },
 "nbformat": 4,
 "nbformat_minor": 2
}
