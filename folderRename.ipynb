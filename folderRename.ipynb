{
 "cells": [
  {
   "cell_type": "code",
   "execution_count": 56,
   "metadata": {},
   "outputs": [
    {
     "ename": "NameError",
     "evalue": "name 'x' is not defined",
     "output_type": "error",
     "traceback": [
      "\u001b[1;31m---------------------------------------------------------------------------\u001b[0m",
      "\u001b[1;31mNameError\u001b[0m                                 Traceback (most recent call last)",
      "\u001b[1;32mUntitled-1.ipynb Cell 1\u001b[0m in \u001b[0;36m<cell line: 17>\u001b[1;34m()\u001b[0m\n\u001b[0;32m      <a href='vscode-notebook-cell:Untitled-1.ipynb?jupyter-notebook#W0sdW50aXRsZWQ%3D?line=7'>8</a>\u001b[0m sourcePaths \u001b[39m=\u001b[39m [x\u001b[39m.\u001b[39mreplace(os\u001b[39m.\u001b[39msep, \u001b[39m'\u001b[39m\u001b[39m/\u001b[39m\u001b[39m'\u001b[39m) \u001b[39mfor\u001b[39;00m x \u001b[39min\u001b[39;00m (glob(source_path))]\n\u001b[0;32m     <a href='vscode-notebook-cell:Untitled-1.ipynb?jupyter-notebook#W0sdW50aXRsZWQ%3D?line=9'>10</a>\u001b[0m \u001b[39m# list index replace single line\u001b[39;00m\n\u001b[0;32m     <a href='vscode-notebook-cell:Untitled-1.ipynb?jupyter-notebook#W0sdW50aXRsZWQ%3D?line=10'>11</a>\u001b[0m \u001b[39m# newpath = \"/\".join(list(map(lambda x: x.replace(\"asset\", \"model\"), spath.split(\"/\"))))\u001b[39;00m\n\u001b[0;32m     <a href='vscode-notebook-cell:Untitled-1.ipynb?jupyter-notebook#W0sdW50aXRsZWQ%3D?line=11'>12</a>\u001b[0m \n\u001b[0;32m     <a href='vscode-notebook-cell:Untitled-1.ipynb?jupyter-notebook#W0sdW50aXRsZWQ%3D?line=12'>13</a>\u001b[0m \u001b[39m# list comprehension index replace since line\u001b[39;00m\n\u001b[0;32m     <a href='vscode-notebook-cell:Untitled-1.ipynb?jupyter-notebook#W0sdW50aXRsZWQ%3D?line=13'>14</a>\u001b[0m \u001b[39m# newpath = [\"/\".join(list(map(lambda x: x.replace(\"asset\", \"model\"), (spath.split('/'))))) for spath in sourcePaths]\u001b[39;00m\n\u001b[0;32m     <a href='vscode-notebook-cell:Untitled-1.ipynb?jupyter-notebook#W0sdW50aXRsZWQ%3D?line=14'>15</a>\u001b[0m \u001b[39m# newpath = [\"/\".join(list(map(lambda x: x[-1]=\"model\"), (spath.split('/'))))) for spath in sourcePaths]\u001b[39;00m\n\u001b[1;32m---> <a href='vscode-notebook-cell:Untitled-1.ipynb?jupyter-notebook#W0sdW50aXRsZWQ%3D?line=16'>17</a>\u001b[0m newpath \u001b[39m=\u001b[39m [\u001b[39m\"\u001b[39m\u001b[39mmodel\u001b[39m\u001b[39m\"\u001b[39m \u001b[39mfor\u001b[39;00m x[\u001b[39m-\u001b[39m\u001b[39m1\u001b[39m] \u001b[39min\u001b[39;00m sourcePaths]\n\u001b[0;32m     <a href='vscode-notebook-cell:Untitled-1.ipynb?jupyter-notebook#W0sdW50aXRsZWQ%3D?line=18'>19</a>\u001b[0m \u001b[39m# list index replace inside forloop.\u001b[39;00m\n\u001b[0;32m     <a href='vscode-notebook-cell:Untitled-1.ipynb?jupyter-notebook#W0sdW50aXRsZWQ%3D?line=19'>20</a>\u001b[0m \u001b[39mfor\u001b[39;00m spath \u001b[39min\u001b[39;00m sourcePaths:\n",
      "\u001b[1;32mUntitled-1.ipynb Cell 1\u001b[0m in \u001b[0;36m<listcomp>\u001b[1;34m(.0)\u001b[0m\n\u001b[0;32m      <a href='vscode-notebook-cell:Untitled-1.ipynb?jupyter-notebook#W0sdW50aXRsZWQ%3D?line=7'>8</a>\u001b[0m sourcePaths \u001b[39m=\u001b[39m [x\u001b[39m.\u001b[39mreplace(os\u001b[39m.\u001b[39msep, \u001b[39m'\u001b[39m\u001b[39m/\u001b[39m\u001b[39m'\u001b[39m) \u001b[39mfor\u001b[39;00m x \u001b[39min\u001b[39;00m (glob(source_path))]\n\u001b[0;32m     <a href='vscode-notebook-cell:Untitled-1.ipynb?jupyter-notebook#W0sdW50aXRsZWQ%3D?line=9'>10</a>\u001b[0m \u001b[39m# list index replace single line\u001b[39;00m\n\u001b[0;32m     <a href='vscode-notebook-cell:Untitled-1.ipynb?jupyter-notebook#W0sdW50aXRsZWQ%3D?line=10'>11</a>\u001b[0m \u001b[39m# newpath = \"/\".join(list(map(lambda x: x.replace(\"asset\", \"model\"), spath.split(\"/\"))))\u001b[39;00m\n\u001b[0;32m     <a href='vscode-notebook-cell:Untitled-1.ipynb?jupyter-notebook#W0sdW50aXRsZWQ%3D?line=11'>12</a>\u001b[0m \n\u001b[0;32m     <a href='vscode-notebook-cell:Untitled-1.ipynb?jupyter-notebook#W0sdW50aXRsZWQ%3D?line=12'>13</a>\u001b[0m \u001b[39m# list comprehension index replace since line\u001b[39;00m\n\u001b[0;32m     <a href='vscode-notebook-cell:Untitled-1.ipynb?jupyter-notebook#W0sdW50aXRsZWQ%3D?line=13'>14</a>\u001b[0m \u001b[39m# newpath = [\"/\".join(list(map(lambda x: x.replace(\"asset\", \"model\"), (spath.split('/'))))) for spath in sourcePaths]\u001b[39;00m\n\u001b[0;32m     <a href='vscode-notebook-cell:Untitled-1.ipynb?jupyter-notebook#W0sdW50aXRsZWQ%3D?line=14'>15</a>\u001b[0m \u001b[39m# newpath = [\"/\".join(list(map(lambda x: x[-1]=\"model\"), (spath.split('/'))))) for spath in sourcePaths]\u001b[39;00m\n\u001b[1;32m---> <a href='vscode-notebook-cell:Untitled-1.ipynb?jupyter-notebook#W0sdW50aXRsZWQ%3D?line=16'>17</a>\u001b[0m newpath \u001b[39m=\u001b[39m [\u001b[39m\"\u001b[39m\u001b[39mmodel\u001b[39m\u001b[39m\"\u001b[39m \u001b[39mfor\u001b[39;00m x[\u001b[39m-\u001b[39m\u001b[39m1\u001b[39m] \u001b[39min\u001b[39;00m sourcePaths]\n\u001b[0;32m     <a href='vscode-notebook-cell:Untitled-1.ipynb?jupyter-notebook#W0sdW50aXRsZWQ%3D?line=18'>19</a>\u001b[0m \u001b[39m# list index replace inside forloop.\u001b[39;00m\n\u001b[0;32m     <a href='vscode-notebook-cell:Untitled-1.ipynb?jupyter-notebook#W0sdW50aXRsZWQ%3D?line=19'>20</a>\u001b[0m \u001b[39mfor\u001b[39;00m spath \u001b[39min\u001b[39;00m sourcePaths:\n",
      "\u001b[1;31mNameError\u001b[0m: name 'x' is not defined"
     ]
    }
   ],
   "source": [
    "from glob import glob\n",
    "import shutil\n",
    "import os\n",
    "local_path = \"N:/working/characters/POC/\"\n",
    "model_path = \"TASKS/MODEL/char/\"\n",
    "source_path = f'{local_path}{model_path}**/asset/'\n",
    "\n",
    "sourcePaths = [x.replace(os.sep, '/') for x in (glob(source_path))]\n",
    "\n",
    "# list index replace single line\n",
    "# newpath = \"/\".join(list(map(lambda x: x.replace(\"asset\", \"model\"), spath.split(\"/\"))))\n",
    "\n",
    "# list comprehension index replace since line\n",
    "# newpath = [\"/\".join(list(map(lambda x: x.replace(\"asset\", \"model\"), (spath.split('/'))))) for spath in sourcePaths]\n",
    "\n",
    "# # list index replace inside forloop.\n",
    "# for spath in sourcePaths:\n",
    "#     newpathlist = (spath.split(\"/\"))\n",
    "#     newpathlist[-1] = \"model/\"\n",
    "#     newpath = \"/\".join(newpathlist)\n",
    "#     os.rename(spath, newpath)\n",
    "# os.rename"
   ]
  }
 ],
 "metadata": {
  "kernelspec": {
   "display_name": "Python 3.9.13 64-bit (microsoft store)",
   "language": "python",
   "name": "python3"
  },
  "language_info": {
   "codemirror_mode": {
    "name": "ipython",
    "version": 3
   },
   "file_extension": ".py",
   "mimetype": "text/x-python",
   "name": "python",
   "nbconvert_exporter": "python",
   "pygments_lexer": "ipython3",
   "version": "3.9.13"
  },
  "orig_nbformat": 4,
  "vscode": {
   "interpreter": {
    "hash": "5806630f2beb0724d9d4cdc68894c636bf136603f2798ac4d2652c15c74db36e"
   }
  }
 },
 "nbformat": 4,
 "nbformat_minor": 2
}
