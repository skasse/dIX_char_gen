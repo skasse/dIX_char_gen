{
 "cells": [
  {
   "cell_type": "code",
   "execution_count": 1,
   "metadata": {},
   "outputs": [
    {
     "name": "stdout",
     "output_type": "stream",
     "text": [
      "['N:/working/characters/assets/char/ethnicPackExport/age10/complete/', 'N:/working/characters/assets/char/ethnicPackExport/age10/f03_afr_m_cae_aaa/', 'N:/working/characters/assets/char/ethnicPackExport/age10/f04_afr_n_cae_aaa/', 'N:/working/characters/assets/char/ethnicPackExport/age10/f05_afr_c_cae_aaa/', 'N:/working/characters/assets/char/ethnicPackExport/age10/f06_afr_c_cae_aaa/', 'N:/working/characters/assets/char/ethnicPackExport/age10/textures/', 'N:/working/characters/assets/char/ethnicPackExport/age10/waiting for export/']\n"
     ]
    }
   ],
   "source": [
    "from glob import glob\n",
    "import shutil\n",
    "import os\n",
    "# local_path = \"N:/working/characters/POC/\"\n",
    "# model_path = \"TASKS/MODEL/char/\"\n",
    "# source_path = f'{local_path}{model_path}**/asset/'\n",
    "source_path = \"N:/working/characters/assets/char/ethnicPackExport/age10/\"\n",
    "\n",
    "sourcePaths = [x.replace(os.sep, '/') for x in (glob(source_path+\"*/\"))]\n",
    "print(sourcePaths)"
   ]
  },
  {
   "cell_type": "code",
   "execution_count": null,
   "metadata": {},
   "outputs": [],
   "source": [
    "for path in sourcePaths:\n",
    "    if \"textures\" in path:\n",
    "        pass\n",
    "    if len(path.split('/')[-2]) > 7:\n",
    "        # print(path)\n",
    "        pass\n",
    "    else:\n",
    "        oldname = path.split('/')[-2]\n",
    "        ethnicity = oldname.split('_')[0]\n",
    "        sex = oldname.split('_')[1]\n",
    "        age = (str(6+int(oldname.split('_')[2]))).zfill(2)\n",
    "        newname = f'{sex}{age}_{ethnicity}_m_aaa_aaa'\n",
    "        print(path, path.replace(oldname, newname))\n",
    "        shutil.move(path, path.replace(oldname, newname))"
   ]
  },
  {
   "cell_type": "code",
   "execution_count": null,
   "metadata": {},
   "outputs": [],
   "source": [
    "from glob import glob\n",
    "import shutil\n",
    "import os\n",
    "\n",
    "# source_path = \"O:/Devs/SDG/POC/TASKS/MODEL/char/*/textures\"\n",
    "source_path = \"N:/working/characters/POC/TASKS/MODEL/char/*/textures\"\n",
    "\n",
    "paths = [x.replace(os.sep, '/') for x in (glob(source_path+\"*/\"))]\n",
    "# print(paths)\n",
    "\n",
    "for path in paths:\n",
    "    if path.split('/')[-2] == \"textures\":\n",
    "        shutil.rmtree(path)\n",
    "        print(path)\n"
   ]
  },
  {
   "cell_type": "code",
   "execution_count": 8,
   "metadata": {},
   "outputs": [
    {
     "name": "stdout",
     "output_type": "stream",
     "text": [
      "nothing to do\n",
      "nothing to do\n",
      "nothing to do\n",
      "nothing to do\n",
      "nothing to do\n",
      "nothing to do\n"
     ]
    }
   ],
   "source": [
    "from glob import glob\n",
    "import shutil, os\n",
    "\n",
    "path = \"N:/working/characters/assets/char/ethnicPackExport/age10/\"\n",
    "key = \"*_*_*_*_*.ccProject\"\n",
    "projects = [x.replace(os.sep, '/') for x in glob(path+key)]\n",
    "\n",
    "# print(projects)\n",
    "for project in projects:\n",
    "    folderName = project.split('/')[-1].split('.')[0]\n",
    "   \n",
    "    assetFolder = path+folderName+\"/asset\"\n",
    "    cc4Folder = path+folderName+\"/cc4\"\n",
    "    usdFile = f'{path}{folderName}/{folderName}.usd'\n",
    "    modelFile = f'{path}{folderName}/model.usda'\n",
    "    textureFolder = f'{path}{folderName}/textures'\n",
    "   \n",
    "    if os.path.exists(path+folderName):\n",
    "        print(folderName + \" exists\")\n",
    "        if not os.path.exists(assetFolder):\n",
    "            os.mkdir(assetFolder)\n",
    "            (print(\"created asset folder\"))\n",
    "        if not os.path.exists(cc4Folder):\n",
    "            os.mkdir(cc4Folder)\n",
    "        if os.path.isfile(usdFile):\n",
    "            print('found usd')\n",
    "            shutil.move(usdFile, f'{cc4Folder}/{folderName}.usd')\n",
    "        if os.path.isfile(modelFile):\n",
    "            print('found model')\n",
    "            shutil.move(modelFile, f'{assetFolder}/model.usda')\n",
    "        if os.path.exists(textureFolder):\n",
    "            print('found textures')\n",
    "            shutil.rmtree(textureFolder)\n",
    "        if os.path.exists(cc4Folder):\n",
    "            shutil.rmtree(cc4Folder)\n",
    "        if os.path.exists(path+folderName):\n",
    "            print(f'moving {folderName} to waiting for export')\n",
    "            shutil.move(path+folderName, path+'waiting for export/' + folderName)\n",
    "        if os.path.isfile(path+folderName+\".Fbx\"):\n",
    "            (\"print archiving fbx\")\n",
    "        if os.path.isfile(path+folderName+\".ccProject\"):\n",
    "            (\"print archiving cc4 project\")\n",
    "    else:\n",
    "        print('nothing to do')\n",
    "            \n",
    "        \n",
    "\n",
    "        # shutil.copy(project, path+folderName)"
   ]
  },
  {
   "cell_type": "code",
   "execution_count": 6,
   "metadata": {},
   "outputs": [],
   "source": [
    "import os\n",
    "from glob import glob\n",
    "import shutil\n",
    "\n",
    "path = 'N:/working/characters/POC/TASKS/TEXTURE/char/skin/1k/'\n",
    "path = 'N:/working/characters/assets/char/ethnicPackExport/age10/*_*_*_*_*'\n",
    "\n",
    "# texture = [x.replace(os.sep, '/') for x in glob(path+\"**/**.png\")]\n",
    "origname = [x.replace(os.sep, '/') for x in glob(path+'*')]\n",
    "# print(origname)\n",
    "newname = [x.replace('_nea_', '_kor_') for x in origname]\n",
    "# print(newname)\n",
    "\n",
    "for old, new in zip(origname, newname):\n",
    "    os.rename(old, new)"
   ]
  }
 ],
 "metadata": {
  "kernelspec": {
   "display_name": "Python 3.9.13 64-bit (microsoft store)",
   "language": "python",
   "name": "python3"
  },
  "language_info": {
   "codemirror_mode": {
    "name": "ipython",
    "version": 3
   },
   "file_extension": ".py",
   "mimetype": "text/x-python",
   "name": "python",
   "nbconvert_exporter": "python",
   "pygments_lexer": "ipython3",
   "version": "3.9.13"
  },
  "orig_nbformat": 4,
  "vscode": {
   "interpreter": {
    "hash": "5806630f2beb0724d9d4cdc68894c636bf136603f2798ac4d2652c15c74db36e"
   }
  }
 },
 "nbformat": 4,
 "nbformat_minor": 2
}
